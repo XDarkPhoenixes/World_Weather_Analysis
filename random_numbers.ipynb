{
 "cells": [
  {
   "cell_type": "code",
   "execution_count": 1,
   "id": "cd37df1f",
   "metadata": {},
   "outputs": [],
   "source": [
    "# Import the random module.\n",
    "import random"
   ]
  },
  {
   "cell_type": "code",
   "execution_count": 2,
   "id": "67ea9a47",
   "metadata": {},
   "outputs": [
    {
     "data": {
      "text/plain": [
       "-85"
      ]
     },
     "execution_count": 2,
     "metadata": {},
     "output_type": "execute_result"
    }
   ],
   "source": [
    "random.randint(-90,90)"
   ]
  },
  {
   "cell_type": "code",
   "execution_count": 3,
   "id": "edc88877",
   "metadata": {},
   "outputs": [
    {
     "data": {
      "text/plain": [
       "0.651157187488639"
      ]
     },
     "execution_count": 3,
     "metadata": {},
     "output_type": "execute_result"
    }
   ],
   "source": [
    "random.random()"
   ]
  },
  {
   "cell_type": "code",
   "execution_count": 4,
   "id": "c6a36114",
   "metadata": {},
   "outputs": [
    {
     "data": {
      "text/plain": [
       "-26.34066278969351"
      ]
     },
     "execution_count": 4,
     "metadata": {},
     "output_type": "execute_result"
    }
   ],
   "source": [
    "random_number = random.randint(-90, 89) + random.random()\n",
    "random_number"
   ]
  },
  {
   "cell_type": "code",
   "execution_count": 5,
   "id": "a3ce264a",
   "metadata": {},
   "outputs": [],
   "source": [
    "x = 1 \n",
    "latitudes = []\n",
    "while x < 11:\n",
    "    random_lat = random.randint(-90, 89) + random.random()\n",
    "    x += 1\n",
    "    latitudes.append(random_lat)"
   ]
  },
  {
   "cell_type": "code",
   "execution_count": 6,
   "id": "ae9c180c",
   "metadata": {},
   "outputs": [
    {
     "data": {
      "text/plain": [
       "[-61.17298116051195,\n",
       " -48.969200943321226,\n",
       " 20.00616107390095,\n",
       " -83.60858047522856,\n",
       " 8.412430702129921,\n",
       " -36.49102140742342,\n",
       " 43.95299552726339,\n",
       " 40.37235441393768,\n",
       " -58.613973784094576,\n",
       " -71.0013398628372]"
      ]
     },
     "execution_count": 6,
     "metadata": {},
     "output_type": "execute_result"
    }
   ],
   "source": [
    "latitudes\n"
   ]
  },
  {
   "cell_type": "code",
   "execution_count": 7,
   "id": "1a464a2f",
   "metadata": {},
   "outputs": [
    {
     "data": {
      "text/plain": [
       "-50"
      ]
     },
     "execution_count": 7,
     "metadata": {},
     "output_type": "execute_result"
    }
   ],
   "source": [
    "random.randrange(-90, 90, 1)"
   ]
  },
  {
   "cell_type": "code",
   "execution_count": 8,
   "id": "c330b36c",
   "metadata": {},
   "outputs": [
    {
     "data": {
      "text/plain": [
       "87"
      ]
     },
     "execution_count": 8,
     "metadata": {},
     "output_type": "execute_result"
    }
   ],
   "source": [
    "random.randrange(-90, 90, 3)"
   ]
  },
  {
   "cell_type": "code",
   "execution_count": 9,
   "id": "57239720",
   "metadata": {},
   "outputs": [],
   "source": [
    "# Import the NumPy module.\n",
    "import numpy as np "
   ]
  },
  {
   "cell_type": "code",
   "execution_count": 10,
   "id": "26c2a7dd",
   "metadata": {},
   "outputs": [
    {
     "data": {
      "text/plain": [
       "-77.15105650128557"
      ]
     },
     "execution_count": 10,
     "metadata": {},
     "output_type": "execute_result"
    }
   ],
   "source": [
    "np.random.uniform(-90.000, 90.000)"
   ]
  },
  {
   "cell_type": "code",
   "execution_count": 11,
   "id": "0a7896cb",
   "metadata": {},
   "outputs": [
    {
     "data": {
      "text/plain": [
       "array([ 17.63652095,  65.90830508, -44.74474857, -75.92592526,\n",
       "        45.23779141,  35.44484812,  75.0214432 ,  86.68602968,\n",
       "        59.42650094, -25.14266046,   1.97541429, -83.90111289,\n",
       "        53.82887437, -80.78358608, -40.09437267,  24.73648611,\n",
       "        60.61136656,  62.67978254,  28.54026297, -11.70087763,\n",
       "       -49.90127596,  42.33870451,   5.24491653,   2.84373076,\n",
       "       -79.08557158,  53.47068345,  55.61893207,  29.98144737,\n",
       "       -55.58404558, -60.18238145,   1.65353137, -20.56635906,\n",
       "       -62.4085625 , -83.95828524,  58.76328771, -89.03558876,\n",
       "       -25.57326592, -21.07844331, -46.25875091,  34.7682998 ,\n",
       "        39.71421808, -58.47153898,  57.25578176,  11.05896368,\n",
       "        -8.54969613,  66.49907476, -51.1053199 ,  89.98919691,\n",
       "        -9.17209175, -84.72577775])"
      ]
     },
     "execution_count": 11,
     "metadata": {},
     "output_type": "execute_result"
    }
   ],
   "source": [
    "np.random.uniform(-90, 90, size=50)"
   ]
  },
  {
   "cell_type": "code",
   "execution_count": 2,
   "id": "346d20c4",
   "metadata": {},
   "outputs": [],
   "source": [
    "# import timeit.\n",
    "import timeit"
   ]
  },
  {
   "cell_type": "code",
   "execution_count": 13,
   "id": "3f876aff",
   "metadata": {},
   "outputs": [
    {
     "name": "stdout",
     "output_type": "stream",
     "text": [
      "13 µs ± 114 ns per loop (mean ± std. dev. of 7 runs, 100000 loops each)\n"
     ]
    }
   ],
   "source": [
    "%timeit np.random.uniform(-90,90, size=1500)"
   ]
  },
  {
   "cell_type": "code",
   "execution_count": 14,
   "id": "590b9a78",
   "metadata": {},
   "outputs": [
    {
     "name": "stdout",
     "output_type": "stream",
     "text": [
      "1.67 ms ± 14.1 µs per loop (mean ± std. dev. of 7 runs, 1000 loops each)\n"
     ]
    }
   ],
   "source": [
    "def latitudes(size):\n",
    "    latitudes = []\n",
    "    x = 0\n",
    "    while x < (size):\n",
    "        random_lat = random.randint(-90, 90) + random.random()\n",
    "        latitudes.append(random_lat)\n",
    "        x += 1\n",
    "    return latitudes\n",
    "# Call the function with 1500.\n",
    "%timeit latitudes(1500)"
   ]
  },
  {
   "cell_type": "code",
   "execution_count": 3,
   "id": "915c58ae",
   "metadata": {},
   "outputs": [
    {
     "name": "stdout",
     "output_type": "stream",
     "text": [
      "1.58 ms ± 3.58 µs per loop (mean ± std. dev. of 7 runs, 1000 loops each)\n"
     ]
    }
   ],
   "source": [
    "# Skill Drill 6.1.4\n",
    "def latitudesfor(size):\n",
    "    latitude = []\n",
    "    for i in range(0,size):\n",
    "        random_lat = random.randint(-90, 90) + random.random()\n",
    "        latitude.append(random_lat)\n",
    "    return latitude\n",
    "%timeit latitudesfor(1500)"
   ]
  },
  {
   "cell_type": "code",
   "execution_count": null,
   "id": "4ba131c1",
   "metadata": {},
   "outputs": [],
   "source": []
  }
 ],
 "metadata": {
  "kernelspec": {
   "display_name": "PythonData",
   "language": "python",
   "name": "pythondata"
  },
  "language_info": {
   "codemirror_mode": {
    "name": "ipython",
    "version": 3
   },
   "file_extension": ".py",
   "mimetype": "text/x-python",
   "name": "python",
   "nbconvert_exporter": "python",
   "pygments_lexer": "ipython3",
   "version": "3.7.10"
  }
 },
 "nbformat": 4,
 "nbformat_minor": 5
}
